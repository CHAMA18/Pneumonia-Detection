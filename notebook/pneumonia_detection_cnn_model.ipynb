{
 "cells": [
  {
   "cell_type": "markdown",
   "metadata": {},
   "source": [
    "## Pneumonia Detection from Chest X-ray Images\n",
    "\n",
    "In this notebook, a `Convolutional Neural Network (CNN)` is built and trained that aims to setect the presence of `pneumonia` disease by analyzing chest X-ray images.\n",
    "\n",
    "This is a `binary classification` problem where, the outcome would be either a person has `pneumonia` disease or not (`normal`).\n",
    "\n",
    "This model is bulit from scratch i.e. not relying on transfer learning approaches (pre-trained models)."
   ]
  },
  {
   "cell_type": "markdown",
   "metadata": {
    "pycharm": {
     "name": "#%% md\n"
    }
   },
   "source": [
    "### Importing the libraries"
   ]
  },
  {
   "cell_type": "code",
   "execution_count": 25,
   "metadata": {
    "pycharm": {
     "name": "#%%\n"
    }
   },
   "outputs": [],
   "source": [
    "import matplotlib.pyplot as plt\n",
    "from keras.callbacks import EarlyStopping, ModelCheckpoint\n",
    "from keras.layers import Conv2D, MaxPooling2D, SeparableConv2D, \\\n",
    "    Dense, Flatten, BatchNormalization, Dropout\n",
    "from keras.models import Sequential, load_model\n",
    "from keras.preprocessing.image import ImageDataGenerator"
   ]
  },
  {
   "cell_type": "markdown",
   "source": [
    "### Configurations to be used later"
   ],
   "metadata": {
    "collapsed": false,
    "pycharm": {
     "name": "#%% md\n"
    }
   }
  },
  {
   "cell_type": "code",
   "execution_count": 9,
   "outputs": [],
   "source": [
    "MODEL_LOC = '../model/pneumonia_detection_cnn_model.h5'\n",
    "DATA_DIR = '../data/'\n",
    "TRAINING_DATA_DIR = DATA_DIR + '/train/'\n",
    "TEST_DATA_DIR = DATA_DIR + '/test/'\n",
    "DETECTION_CLASSES = ('NORMAL', 'PNEUMONIA')\n",
    "BATCH_SIZE = 32\n",
    "EPOCHS = 100"
   ],
   "metadata": {
    "collapsed": false,
    "pycharm": {
     "name": "#%%\n"
    }
   }
  },
  {
   "cell_type": "markdown",
   "source": [
    "### Exploratory Data Analysis (EDA)"
   ],
   "metadata": {
    "collapsed": false,
    "pycharm": {
     "name": "#%% md\n"
    }
   }
  },
  {
   "cell_type": "markdown",
   "source": [
    "As can be seen from the above data exploration, the data is highly imbalanced. The number of images for `pneumonia`cases are much higher than the `normal` images. However, this is expected in the medical data, as a person is advised to have the X-ray done if some symptoms are noticed and hence more likely to have the disease."
   ],
   "metadata": {
    "collapsed": false,
    "pycharm": {
     "name": "#%% md\n"
    }
   }
  },
  {
   "cell_type": "markdown",
   "source": [
    "### Preparing the data"
   ],
   "metadata": {
    "collapsed": false,
    "pycharm": {
     "name": "#%% md\n"
    }
   }
  },
  {
   "cell_type": "code",
   "execution_count": 10,
   "outputs": [
    {
     "name": "stdout",
     "output_type": "stream",
     "text": [
      "Found 5216 images belonging to 2 classes.\n",
      "Found 624 images belonging to 2 classes.\n"
     ]
    }
   ],
   "source": [
    "# data generator on training dataset, data augmentation applied\n",
    "train_datagen = ImageDataGenerator(\n",
    "        rescale=1.0 / 255.0,\n",
    "        shear_range=0.2,\n",
    "        vertical_flip=True,\n",
    "        rotation_range=10,\n",
    "        zoom_range=0.3)\n",
    "# preprocessing the training set\n",
    "training_dataset = train_datagen.flow_from_directory(TRAINING_DATA_DIR,\n",
    "                                                         classes=DETECTION_CLASSES,\n",
    "                                                         shuffle=True,\n",
    "                                                         batch_size=BATCH_SIZE,\n",
    "                                                         target_size=(224, 224))\n",
    "# data generator on test dataset (here used as validation)\n",
    "test_datagen = ImageDataGenerator(rescale=1.0 / 255.0)\n",
    "\n",
    "# preprocessing the test set (here used as validation)\n",
    "test_dataset = test_datagen.flow_from_directory(TEST_DATA_DIR,\n",
    "                                                    classes=DETECTION_CLASSES,\n",
    "                                                    shuffle=False,\n",
    "                                                    batch_size=BATCH_SIZE,\n",
    "                                                    target_size=(224, 224))\n"
   ],
   "metadata": {
    "collapsed": false,
    "pycharm": {
     "name": "#%%\n"
    }
   }
  },
  {
   "cell_type": "markdown",
   "metadata": {
    "pycharm": {
     "name": "#%% md\n"
    }
   },
   "source": [
    "### Building the model"
   ]
  },
  {
   "cell_type": "markdown",
   "source": [
    "The following model consists of five convolution blocks where after each block, a pooling layer (maxpooling) is added. The flattening layer after the last convolution block prepares the input to be fed into the fully connected layers. In each fully connected layer, Dense method is used to add a hidden layer where units represents the the number of nodes/neurons in that layer. The last fully connected layer has two nodes representing the two cases - `pneumonia` and `normal` where the softmax` activation function is in action.\n"
   ],
   "metadata": {
    "collapsed": false,
    "pycharm": {
     "name": "#%% md\n"
    }
   }
  },
  {
   "cell_type": "code",
   "execution_count": 11,
   "outputs": [
    {
     "name": "stdout",
     "output_type": "stream",
     "text": [
      "Model: \"sequential\"\n",
      "_________________________________________________________________\n",
      "Layer (type)                 Output Shape              Param #   \n",
      "=================================================================\n",
      "conv2d (Conv2D)              (None, 224, 224, 16)      448       \n",
      "_________________________________________________________________\n",
      "conv2d_1 (Conv2D)            (None, 224, 224, 16)      2320      \n",
      "_________________________________________________________________\n",
      "max_pooling2d (MaxPooling2D) (None, 112, 112, 16)      0         \n",
      "_________________________________________________________________\n",
      "separable_conv2d (SeparableC (None, 112, 112, 32)      688       \n",
      "_________________________________________________________________\n",
      "separable_conv2d_1 (Separabl (None, 112, 112, 32)      1344      \n",
      "_________________________________________________________________\n",
      "batch_normalization (BatchNo (None, 112, 112, 32)      128       \n",
      "_________________________________________________________________\n",
      "max_pooling2d_1 (MaxPooling2 (None, 56, 56, 32)        0         \n",
      "_________________________________________________________________\n",
      "separable_conv2d_2 (Separabl (None, 56, 56, 64)        2400      \n",
      "_________________________________________________________________\n",
      "separable_conv2d_3 (Separabl (None, 56, 56, 64)        4736      \n",
      "_________________________________________________________________\n",
      "batch_normalization_1 (Batch (None, 56, 56, 64)        256       \n",
      "_________________________________________________________________\n",
      "max_pooling2d_2 (MaxPooling2 (None, 28, 28, 64)        0         \n",
      "_________________________________________________________________\n",
      "separable_conv2d_4 (Separabl (None, 28, 28, 128)       8896      \n",
      "_________________________________________________________________\n",
      "separable_conv2d_5 (Separabl (None, 28, 28, 128)       17664     \n",
      "_________________________________________________________________\n",
      "batch_normalization_2 (Batch (None, 28, 28, 128)       512       \n",
      "_________________________________________________________________\n",
      "max_pooling2d_3 (MaxPooling2 (None, 14, 14, 128)       0         \n",
      "_________________________________________________________________\n",
      "dropout (Dropout)            (None, 14, 14, 128)       0         \n",
      "_________________________________________________________________\n",
      "separable_conv2d_6 (Separabl (None, 14, 14, 256)       34176     \n",
      "_________________________________________________________________\n",
      "separable_conv2d_7 (Separabl (None, 14, 14, 256)       68096     \n",
      "_________________________________________________________________\n",
      "batch_normalization_3 (Batch (None, 14, 14, 256)       1024      \n",
      "_________________________________________________________________\n",
      "max_pooling2d_4 (MaxPooling2 (None, 7, 7, 256)         0         \n",
      "_________________________________________________________________\n",
      "dropout_1 (Dropout)          (None, 7, 7, 256)         0         \n",
      "_________________________________________________________________\n",
      "flatten (Flatten)            (None, 12544)             0         \n",
      "_________________________________________________________________\n",
      "dense (Dense)                (None, 512)               6423040   \n",
      "_________________________________________________________________\n",
      "dropout_2 (Dropout)          (None, 512)               0         \n",
      "_________________________________________________________________\n",
      "dense_1 (Dense)              (None, 128)               65664     \n",
      "_________________________________________________________________\n",
      "dropout_3 (Dropout)          (None, 128)               0         \n",
      "_________________________________________________________________\n",
      "dense_2 (Dense)              (None, 64)                8256      \n",
      "_________________________________________________________________\n",
      "dropout_4 (Dropout)          (None, 64)                0         \n",
      "_________________________________________________________________\n",
      "dense_3 (Dense)              (None, 2)                 130       \n",
      "=================================================================\n",
      "Total params: 6,639,778\n",
      "Trainable params: 6,638,818\n",
      "Non-trainable params: 960\n",
      "_________________________________________________________________\n"
     ]
    }
   ],
   "source": [
    "cnn_model = Sequential()\n",
    "\n",
    "# First Block of CNN\n",
    "cnn_model.add(Conv2D(16, (3, 3), padding='same', input_shape=(224, 224, 3), activation='relu'))\n",
    "cnn_model.add(Conv2D(16, (3, 3), padding='same', activation='relu'))\n",
    "cnn_model.add(MaxPooling2D((2, 2)))\n",
    "\n",
    "#  Second Block of CNN\n",
    "cnn_model.add(SeparableConv2D(32, (3, 3), padding='same', activation='relu'))\n",
    "cnn_model.add(SeparableConv2D(32, (3, 3), padding='same', activation='relu'))\n",
    "cnn_model.add(BatchNormalization())\n",
    "cnn_model.add(MaxPooling2D((2, 2)))\n",
    "\n",
    "#  Third Block of CNN\n",
    "cnn_model.add(SeparableConv2D(64, (3, 3), padding='same', activation='relu'))\n",
    "cnn_model.add(SeparableConv2D(64, (3, 3), padding='same', activation='relu'))\n",
    "cnn_model.add(BatchNormalization())\n",
    "cnn_model.add(MaxPooling2D((2, 2)))\n",
    "\n",
    "#  Fourth Block of CNN\n",
    "cnn_model.add(SeparableConv2D(128, (3, 3), padding='same', activation='relu'))\n",
    "cnn_model.add(SeparableConv2D(128, (3, 3), padding='same', activation='relu'))\n",
    "cnn_model.add(BatchNormalization())\n",
    "cnn_model.add(MaxPooling2D((2, 2)))\n",
    "cnn_model.add(Dropout(rate=0.2))\n",
    "\n",
    "#  Fifth Block of CNN\n",
    "cnn_model.add(SeparableConv2D(256, (3, 3), padding='same', activation='relu'))\n",
    "cnn_model.add(SeparableConv2D(256, (3, 3), padding='same', activation='relu'))\n",
    "cnn_model.add(BatchNormalization())\n",
    "cnn_model.add(MaxPooling2D((2, 2)))\n",
    "cnn_model.add(Dropout(rate=0.2))\n",
    "\n",
    "#  Flatten and Fully Connected Layer\n",
    "cnn_model.add(Flatten())\n",
    "cnn_model.add(Dense(units=512, activation='relu'))\n",
    "cnn_model.add(Dropout(rate=0.7))\n",
    "cnn_model.add(Dense(units=128, activation='relu'))\n",
    "cnn_model.add(Dropout(rate=0.5))\n",
    "cnn_model.add(Dense(units=64, activation='relu'))\n",
    "cnn_model.add(Dropout(rate=0.3))\n",
    "\n",
    "#  Softmax Classifier\n",
    "cnn_model.add(Dense(units=2, activation='softmax'))\n",
    "\n",
    "#  Display model\n",
    "cnn_model.summary()\n",
    "\n",
    "# compile model\n",
    "cnn_model.compile(optimizer='adam', loss='categorical_crossentropy', metrics=['accuracy'])"
   ],
   "metadata": {
    "collapsed": false,
    "pycharm": {
     "name": "#%%\n"
    }
   }
  },
  {
   "cell_type": "markdown",
   "source": [
    "### Training the model\n"
   ],
   "metadata": {
    "collapsed": false,
    "pycharm": {
     "name": "#%% md\n"
    }
   }
  },
  {
   "cell_type": "code",
   "execution_count": 12,
   "outputs": [],
   "source": [
    "# introducing callbacks\n",
    "early_stop = EarlyStopping(monitor='val_loss',\n",
    "                            patience=10,\n",
    "                            mode='min',\n",
    "                            min_delta=0.001,\n",
    "                            restore_best_weights=True)\n",
    "\n",
    "checkpoint = ModelCheckpoint(filepath=MODEL_LOC,  # saves the 'best' model\n",
    "                             monitor='val_loss',\n",
    "                             save_best_only=True,\n",
    "                             mode='min')"
   ],
   "metadata": {
    "collapsed": false,
    "pycharm": {
     "name": "#%%\n"
    }
   }
  },
  {
   "cell_type": "code",
   "execution_count": null,
   "outputs": [],
   "source": [
    "# fit the model\n",
    "history = cnn_model.fit(training_dataset,\n",
    "                        steps_per_epoch=len(training_dataset),\n",
    "                        validation_data=test_dataset,\n",
    "                        validation_steps=len(test_dataset),\n",
    "                        epochs=EPOCHS,\n",
    "                        callbacks=[early_stop, checkpoint],\n",
    "                        verbose=1)"
   ],
   "metadata": {
    "collapsed": false,
    "pycharm": {
     "name": "#%%\n"
    }
   }
  },
  {
   "cell_type": "markdown",
   "source": [
    "### Plot the training history"
   ],
   "metadata": {
    "collapsed": false,
    "pycharm": {
     "name": "#%% md\n"
    }
   }
  },
  {
   "cell_type": "code",
   "execution_count": null,
   "outputs": [],
   "source": [
    "#  \"Accuracy\"\n",
    "plt.plot(history.history['accuracy'])\n",
    "plt.plot(history.history['val_accuracy'])\n",
    "plt.title('model accuracy')\n",
    "plt.ylabel('accuracy')\n",
    "plt.xlabel('epoch')\n",
    "plt.legend(['train', 'validation'], loc='upper left')\n",
    "plt.show()\n",
    "\n",
    "# \"Loss\"\n",
    "plt.plot(history.history['loss'])\n",
    "plt.plot(history.history['val_loss'])\n",
    "plt.title('model loss')\n",
    "plt.ylabel('loss')\n",
    "plt.xlabel('epoch')\n",
    "plt.legend(['train', 'validation'], loc='upper left')\n",
    "plt.show()"
   ],
   "metadata": {
    "collapsed": false,
    "pycharm": {
     "name": "#%%\n"
    }
   }
  },
  {
   "cell_type": "markdown",
   "source": [
    "### Model Evaluation"
   ],
   "metadata": {
    "collapsed": false,
    "pycharm": {
     "name": "#%% md\n"
    }
   }
  },
  {
   "cell_type": "code",
   "execution_count": 26,
   "outputs": [],
   "source": [
    "# load the trained CNN model\n",
    "cnn_model = load_model(MODEL_LOC)"
   ],
   "metadata": {
    "collapsed": false,
    "pycharm": {
     "name": "#%%\n"
    }
   }
  },
  {
   "cell_type": "code",
   "execution_count": 27,
   "outputs": [
    {
     "name": "stdout",
     "output_type": "stream",
     "text": [
      "Found 624 images belonging to 2 classes.\n"
     ]
    }
   ],
   "source": [
    "# data generator on test dataset (no data augmentation applied)\n",
    "test_datagen = ImageDataGenerator(rescale=1.0 / 255.0)\n",
    "\n",
    "# preprocessing the test set\n",
    "test_dataset = test_datagen.flow_from_directory(TEST_DATA_DIR,\n",
    "                                                target_size=(224, 224),\n",
    "                                                classes=DETECTION_CLASSES,\n",
    "                                                shuffle=False,\n",
    "                                                batch_size=BATCH_SIZE)"
   ],
   "metadata": {
    "collapsed": false,
    "pycharm": {
     "name": "#%%\n"
    }
   }
  },
  {
   "cell_type": "code",
   "execution_count": 28,
   "outputs": [
    {
     "name": "stdout",
     "output_type": "stream",
     "text": [
      "20/20 [==============================] - 11s 516ms/step\b\b\b\b\b\b\b\b\b\b\b\b\b\b\b\b\b\b\b\b\b\b\b\b\b\b\b\b\b\b\b\b\b\b\b\b\b\b\b\b\b\b\b\b\b\b\b\b\b\b\b\b\b\b\b\b\b\b\b\b\b\b\b\b\b\b\b\b\b\b\b\b\b\b\b\b\b\b\b\b\b\b\b\b\b\b\b\b\b\b\b\b\b\b\b\b\b\b\b\b\b\b\b\b\b\b\b\b\b\b\b\b\b\b\b\b\b\b\b\b\b\b\b\b\b\b\b\b\b\b\b\b\b\b\b\b\b\b\b\b\b\b\b\b\b\b\b\b\b\b\b\b\b\b\b\b\b\b\b\b\b\b\b\b\b\b\b\b\b\b\b\b\b\b\b\b\b\b\b\b\b\b\b\b\b\b\b\b\b\b\b\b\b\b\b\b\b\b\b\b\b\b\b\b\b\b\b\b\b\b\b\b\b\b\b\b\b\b\b\b\b\b\b\b\b\b\b\b\b\b\b\b\b\b\b\b\b\b\b\b\b\b\b\b\b\b\b\b\b\b\b\b\b\b\b\b\b\b\b\b\b\b\b\b\b\b\b\b\b\b\b\b\b\b\b\b\b\b\b\b\b\b\b\b\b\b\b\b\b\b\b\b\b\b\b\b\b\b\b\b\b\b\b\b\b\b\b\b\b\b\b\b\b\b\b\b\b\b\b\b\b\b\b\b\b\b\b\b\b\b\b\b\b\b\b\b\b\b\b\b\b\b\b\b\b\b\b\b\b\b\b\b\b\b\b\b\b\b\b\b\b\b\b\b\b\b\b\b\b\b\b\b\b\b\b\b\b\b\b\b\b\b\b\b\b\b\b\b\b\b\b\b\b\b\b\b\b\b\b\b\b\b\b\b\b\b\b\b\b\b\b\b\b\b\b\b\b\b\b\b\b\b\b\b\b\b\b\b\b\b\b\b\b\b\b\b\b\b\b\b\b\b\b\b\b\b\b\b\b\b\b\b\b\b\b\b\b\b\b\b\b\b\b\b\b\b\b\b\b\b\b\b\b\b\b\b\b\b\b\b\b\b\b\b\b\b\b\b\b\b\b\b\b\b\b\b\b\b\b\b\b\b\b\b\b\b\b\b\b\b\b\b\b\b\b\b\b\b\b\b\b\b\b\b\b\b\b\b\b\b\b\b\b\b\b\b\b\b\b\b\b\b\b\b\b\b\b\b\b\b\b\b\b\b\b\b\b\b\b\b\b\b\b\b\b\b\b\b\b\b\b\b\b\b\b\b\b\b\b\b\b\b\b\b\b\b\b\b\b\b\b\b\b\b\b\b\b\b\b\b\b\b\b\b\b\b\b\b\b\b\b\b\b\b\b\b\b\b\b\b\b\b\b\b\b\b\b\b\b\b\b\b\b\b\b\b\b\b\b\b\b\b\b\b\b\b\b\b\b\b\b\b\b\b\b\b\b\b\b\b\b\b\b\b\b\b\b\b\b\b\b\b\b\b\b\b\b\b\b\b\b\b\b\b\b\b\b\b\b\b\b\b\b\b\b\b\b\b\b\b\b\b\b\b\b\b\b\b\b\b\b\b\b\b\b\b\b\b\b\b\b\b\b\b\b\b\b\b\b\b\b\b\b\b\b\b\b\b\b\b\b\b\b\b\b\b\b\b\b\b\b\b\b\b\b\b\b\b\b\b\b\b\b\b\b\b\b\b\b\b\b\b\b\b\b\b\b\b\b\b\b\b\b\b\b\b\b\b\b\b\b\b\b\b\b\b\b\b\b\b\b\b\b\b\b\b\b\b\b\b\b\b\b\b\b\b\b\b\b\b\b\b\b\b\b\b\b\b\b\b\b\b\b\b\b\b\b\b\b\b\b\b\b\b\b\b\b\b\b\b\b\b\b\b\b\b\b\b\b\b\b\b\b\b\b\b\b\b\b\b\b\b\b\b\b\b\b\b\b\b\b\b\b\b\b\b\b\b\b\b\b\b\b\b\b\b\b\b\b\b\b\b\b\b\b\b\b\b\b\b\b\b\b\b\b\b\b\b\b\b\b\b\b\b\b\b\b\b\b\b\b\b\b\b\b\b\b\b\b\b\b\b\b\b\b\b\b\b\b\b\b\b\b\b\b\b\b\b\b\n"
     ]
    }
   ],
   "source": [
    "# storing the true classes of the test dataset\n",
    "y_true = test_dataset.classes\n",
    "\n",
    "# predicting the classes of the test dataset\n",
    "y_pred = cnn_model.predict(test_dataset, steps=len(test_dataset), verbose=1)\n",
    "\n",
    "# Storing the predicted probability\n",
    "y_pred_prob = y_pred[:, 1]\n",
    "\n",
    "# Storing the binary classes for the predictions\n",
    "y_pred_binary = y_pred_prob > 0.5"
   ],
   "metadata": {
    "collapsed": false,
    "pycharm": {
     "name": "#%%\n"
    }
   }
  },
  {
   "cell_type": "code",
   "execution_count": 34,
   "outputs": [],
   "source": [
    "from sklearn.metrics import confusion_matrix, classification_report, ConfusionMatrixDisplay, roc_auc_score, roc_curve"
   ],
   "metadata": {
    "collapsed": false,
    "pycharm": {
     "name": "#%%\n"
    }
   }
  },
  {
   "cell_type": "code",
   "execution_count": 40,
   "outputs": [
    {
     "name": "stdout",
     "output_type": "stream",
     "text": [
      "\n",
      "Confusion Matrix\n",
      " -------------------------\n",
      "[[184  50]\n",
      " [ 31 359]]\n"
     ]
    }
   ],
   "source": [
    "# confusion Matrix\n",
    "print('\\nConfusion Matrix\\n -------------------------')\n",
    "cm = confusion_matrix(y_true, y_pred_binary)\n",
    "print(cm)"
   ],
   "metadata": {
    "collapsed": false,
    "pycharm": {
     "name": "#%%\n"
    }
   }
  },
  {
   "cell_type": "code",
   "execution_count": 41,
   "outputs": [
    {
     "data": {
      "text/plain": "Text(0.5, 1.0, 'Confusion Matrix')"
     },
     "execution_count": 41,
     "metadata": {},
     "output_type": "execute_result"
    },
    {
     "data": {
      "text/plain": "<Figure size 432x288 with 2 Axes>",
      "image/png": "[encoded data removed]"
     },
     "metadata": {
      "needs_background": "light"
     },
     "output_type": "display_data"
    }
   ],
   "source": [
    "cm_display = ConfusionMatrixDisplay(cm, display_labels=['Normal', 'Pneumonia'])\n",
    "cm_display.plot(cmap = plt.cm.Blues)\n",
    "plt.title('Confusion Matrix')"
   ],
   "metadata": {
    "collapsed": false,
    "pycharm": {
     "name": "#%%\n"
    }
   }
  },
  {
   "cell_type": "code",
   "execution_count": 36,
   "outputs": [
    {
     "name": "stdout",
     "output_type": "stream",
     "text": [
      "\n",
      "Classification Report\n",
      " -------------------------\n",
      "              precision    recall  f1-score   support\n",
      "\n",
      "           0       0.86      0.79      0.82       234\n",
      "           1       0.88      0.92      0.90       390\n",
      "\n",
      "    accuracy                           0.87       624\n",
      "   macro avg       0.87      0.85      0.86       624\n",
      "weighted avg       0.87      0.87      0.87       624\n",
      "\n"
     ]
    }
   ],
   "source": [
    "# classification report\n",
    "# accuracy: (tp + tn) / (p + n)\n",
    "# precision tp / (tp + fp)\n",
    "# recall: tp / (tp + fn)\n",
    "# f1_score: 2 tp / (2 tp + fp + fn)\n",
    "print('\\nClassification Report\\n -------------------------')\n",
    "print(classification_report(y_true, y_pred_binary))"
   ],
   "metadata": {
    "collapsed": false,
    "pycharm": {
     "name": "#%%\n"
    }
   }
  },
  {
   "cell_type": "code",
   "execution_count": 37,
   "outputs": [
    {
     "name": "stdout",
     "output_type": "stream",
     "text": [
      "ROC AUC: 0.933640\n"
     ]
    }
   ],
   "source": [
    "# ROC AUC\n",
    "auc = roc_auc_score(y_true, y_pred_prob)\n",
    "print('ROC AUC: %f' % auc)\n"
   ],
   "metadata": {
    "collapsed": false,
    "pycharm": {
     "name": "#%%\n"
    }
   }
  },
  {
   "cell_type": "code",
   "execution_count": 38,
   "outputs": [
    {
     "data": {
      "text/plain": "<Figure size 432x288 with 1 Axes>",
      "image/png": "[encoded data removed]"
     },
     "metadata": {
      "needs_background": "light"
     },
     "output_type": "display_data"
    }
   ],
   "source": [
    "# calculate roc curves\n",
    "fpr, tpr, _ = roc_curve(y_true, y_pred_prob)\n",
    "\n",
    "# plot the roc curve for the model\n",
    "plt.figure()\n",
    "plt.plot(fpr, tpr, linestyle='--')\n",
    "plt.xlabel('False Positive Rate')\n",
    "plt.ylabel('True Positive Rate')\n",
    "plt.show()"
   ],
   "metadata": {
    "collapsed": false,
    "pycharm": {
     "name": "#%%\n"
    }
   }
  },
  {
   "cell_type": "code",
   "execution_count": null,
   "outputs": [],
   "source": [],
   "metadata": {
    "collapsed": false,
    "pycharm": {
     "name": "#%%\n"
    }
   }
  }
 ],
 "metadata": {
  "kernelspec": {
   "display_name": "Python 3",
   "language": "python",
   "name": "python3"
  },
  "language_info": {
   "codemirror_mode": {
    "name": "ipython",
    "version": 3
   },
   "file_extension": ".py",
   "mimetype": "text/x-python",
   "name": "python",
   "nbconvert_exporter": "python",
   "pygments_lexer": "ipython3",
   "version": "3.7.3"
  },
  "pycharm": {
   "stem_cell": {
    "cell_type": "raw",
    "source": [
     "__author__ = \"Baishali Dutta\"\n",
     "__copyright__ = \"Copyright (C) 2021 Baishali Dutta\"\n",
     "__license__ = \"Apache License 2.0\"\n",
     "__version__ = \"0.1\"\n"
    ],
    "metadata": {
     "collapsed": false
    }
   }
  }
 },
 "nbformat": 4,
 "nbformat_minor": 1
}